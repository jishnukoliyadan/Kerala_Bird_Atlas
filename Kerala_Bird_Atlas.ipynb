{
 "cells": [
  {
   "cell_type": "markdown",
   "id": "f43618b9",
   "metadata": {},
   "source": [
    "# <div align='center'><font color='#F39C12'>Kerala Bird Atlas (KBA) -EDA </font></div>\n",
    "<hr>\n",
    "\n",
    "<img src='images/Kerala-Bird-Atlas-Cover-1.jpeg'>\n",
    "\n",
    "The <font color='#F39C12'>Kerala Bird Atlas (KBA)</font>, the first-of-its-kind state-level bird atlas in India, has created solid baseline data about the distribution and abundance of various bird species across all major habitats giving an impetus for futuristic studies.\n",
    "\n",
    "The entire state of Kerala was systematically surveyed twice a year during **2015–20**. It is arguably **Asia’s largest bird atlas** in terms of geographical extent, sampling effort and species coverage derived from the aggregation of 25,000 checklists.\n",
    "\n",
    "\n",
    "<font color='#F39C12'>KBA</font> accounted for nearly three lakh records of `361` species, including `94` very rare species, `103` rare species, `110` common species, `44` very common species, and `10` most abundant species. \n",
    "\n",
    "## <font color='#D22CD3'>Objective</font>\n",
    "\n",
    "Citizen-science driven exercises (e.g. bird surveys) and online platforms (e.g. [eBird](http://ebird.org/)) provide voluminous data on bird occurrence. However, the semi-structured nature of their data collection makes it difficult to compare bird distribution across space and time.\n",
    "\n",
    "Data on the distribution of species and the factors governing the same are prerequisites for effective and efficient conservation efforts. Such information is necessary to inform the selection of protected areas, to assess habitat associations and to predict the likely effects of future en-vironmental changes.\n",
    "\n",
    "\n",
    "## <font color='#D22CD3'>Methodology</font>\n",
    "### <font color='#2DD32C'>Spatial extent</font>\n",
    "Kerala lies between `8°18'`N and `12°48'`N lat. and `74°52'`E and `77°22'`E long. in southwestern India. Wedged between the Arabian Sea and the windward side of the Western Ghats, it receives abundant rainfall (`180–360` cm) and experiences a tropical climate. Elevation in the region varies from `–2.2` m (Kuttanad) to `2695` m (Anamudi peak). It is spread across an area of `38,863` sq. km, of which `27%` is under forest cover, `66%` is under cultivation and `7%` constitutes built-up areas/wetlands/uncultivated land. Onefourth of the Western Ghats range falls within Kerala. Surveys for <font color='#F39C12'>KBA</font> were conducted in all `14` administrative units (districts) of Kerala.\n",
    "### <font color='#2DD32C'>Sampling protocol</font>\n",
    "Kerala was divided into cells of size `3.75 min x 3.75 min` (equivalent to `6.6 km x 6.6 km`) aligned to Survey of India maps. A total of 915 cells were laid out covering the entire state. Each cell was further divided into four quadrants of size `3.3 km x 3.3 km`. Each quadrant was then sub-divided into `9` sub-cells of size `1.1 x 1.1 km`. A single, randomly selected sub-cell in every quadrant was chosen for the survey. Grids were laid and the randomly selected sub-cells were marked on the map prior to the survey. A total of `63` sub-cells were found to be located in inaccessible cliffs or valleys, and these were replaced by adjacent accessible sub-cells with the same habitat type from the same quadrants.\n",
    "## <font color='#D22CD3'>Dataset</font>\n",
    "\n",
    "This observation dataset contains 3 files :\n",
    "- kba_data.rds\n",
    "- kba_names.rds\n",
    "- kba_species.details.rds\n",
    "\n",
    "\n",
    "<font color='blue'>Reference : </font>[Bird Count India](https://birdcount.in/kerala-bird-atlas/), [The Hindu](https://www.thehindu.com/news/national/kerala/kerala-gets-its-first-ever-scientific-bird-atlas/article38307794.ece), [Times of India](https://timesofindia.indiatimes.com/city/kochi/mammoth-survey-for-kerala-bird-atlas-ends/articleshow/78134787.cms)"
   ]
  },
  {
   "cell_type": "markdown",
   "id": "27d0639c",
   "metadata": {},
   "source": [
    "# <font color='#9115EA'>How to deal RDS files inside python 🐍 ?</font>\n",
    "\n",
    "RDS Format is a file format for storing R objects. Our data can be saved in RDS format. The **<font color='red'>.rds</font>** file extension is most often used in R.\n",
    "\n",
    "Saving data into R data formats can <font color='blue'>reduce the size</font> of large files by considerably.\n",
    "\n",
    "<div class=\"alert alert-success\" role=\"alert\">\n",
    "💡 We can process <font color='red'>.rds</font> files using <font color='red'>pyreadr</font> package.\n",
    "</div>\n",
    "\n",
    "We can install it easily with pip: `pip install pyreadr`\n",
    "<br><br>\n",
    "\n",
    "```python\n",
    "!pip install pyreadr\n",
    "\n",
    "import pyreadr\n",
    "\n",
    "result = pyreadr.read_r('../path_to_file.rds') # also works for RData\n",
    "print(f\"Class type of 'result' \\t:: {type(result)}\")\n",
    "\n",
    "df = result[None] # extract the pandas data frame\n",
    "print(f\"Class type of 'df' \\t:: {type(df)}\")\n",
    "\n",
    ">>> Class type of 'result' \t:: <class 'collections.OrderedDict'>\n",
    ">>> Class type of 'df' \t    :: <class 'pandas.core.frame.DataFrame'>\n",
    "```\n",
    "\n",
    "Reference : [StackoverFlow](https://stackoverflow.com/a/53956614), [GitHub](https://github.com/ofajardo/pyreadr)"
   ]
  },
  {
   "cell_type": "markdown",
   "id": "017041e6",
   "metadata": {},
   "source": [
    "# <font color='#D22CD3'>More about Dataset</font>\n",
    "\n",
    "<!-- ### Species of conservation concern -->\n",
    "\n",
    "- **<font color='#D97026'>Date</font>** : The field surveys were conducted from `2015 to 2020`.\n",
    "\n",
    "- **<font color='#D97026'>Season</font>** : The field  surveys were conducted twice a year ie, during\n",
    "    - Dry (mid-January to mid-March) season\n",
    "        - This season coincides with the peak activity of migratory species.\n",
    "    - Wet (mid-July to mid-September) season\n",
    "        - This season (monsoon) coincides with the breeding period of many resident species.\n",
    "\n",
    "\n",
    "- **<font color='#D97026'>n.observers</font>** aka **Number of observers**\n",
    "    - The number of observers or volunteers for atlas surveys.\n",
    "    - Though the protocol mentioned `2–5` volunteers for each atlas surveys groups, but there are occations more volunteers involved in the survey.\n",
    "    - So the number of observers ranges from `2-13`.\n",
    "\n",
    "\n",
    "- We calculated the **<font color='#D97026'>endemic score</font>** of every cell based on the number of endemic species reported from it.\n",
    "    - The **<font color='#D97026'>endemic score</font>** is **the sum of scores/total species count per unit checklist**\n",
    "        - 1 : The species restricted to Western Ghats–Sri Lanka biodiversity hotspot\n",
    "        - 0 : The rest (non-endemic species).\n",
    "\n",
    "\n",
    "- We calculated the threat and **<font color='#D97026'>SoIB (State of India’s Bird)</font>** score for every cell. SoIB utilized the eBird data to estimate indices of population trends and range size for 867 of India’s 1333 bird species.\n",
    "    - 2 : High\n",
    "    - 1 : Moderate\n",
    "    - 0 : Low\n",
    "\n",
    "\n",
    "- Threat categories were based on the **<font color='#D97026'>IUCN Red List 32</font>** and were scored as follows:\n",
    "    - 4 : Critically endangered\n",
    "    - 3 : Endangered\n",
    "    - 2 : Vulnerable\n",
    "    - 1 : Near-threatened\n",
    "    - 0 : Least-concern\n",
    "\n",
    "\n",
    "**<font color='red'>NOTE</font>** :\n",
    "1. There was the possibility of passage migrants (e.g. Eurasian Cuckoo, Amur Falcon) crossing through Kerala for a very short duration (a couple of weeks) during the intervening un-surveyed months. The atlas survey did not focus on such passage migrants.\n",
    "1. The threat score and SoIB score were mapped separately for wet and dry seasons. \n"
   ]
  },
  {
   "cell_type": "code",
   "execution_count": null,
   "id": "e29bf312",
   "metadata": {},
   "outputs": [],
   "source": []
  },
  {
   "cell_type": "code",
   "execution_count": null,
   "id": "0bb7b948",
   "metadata": {},
   "outputs": [],
   "source": []
  },
  {
   "cell_type": "code",
   "execution_count": null,
   "id": "635b08ea",
   "metadata": {},
   "outputs": [],
   "source": []
  },
  {
   "cell_type": "code",
   "execution_count": null,
   "id": "63ecceaf",
   "metadata": {},
   "outputs": [],
   "source": []
  },
  {
   "cell_type": "code",
   "execution_count": null,
   "id": "0fe14d29",
   "metadata": {},
   "outputs": [],
   "source": []
  },
  {
   "cell_type": "code",
   "execution_count": null,
   "id": "b37e8510",
   "metadata": {},
   "outputs": [],
   "source": []
  },
  {
   "cell_type": "code",
   "execution_count": null,
   "id": "2ef2216c",
   "metadata": {},
   "outputs": [],
   "source": []
  },
  {
   "cell_type": "code",
   "execution_count": null,
   "id": "7e845b3d",
   "metadata": {},
   "outputs": [],
   "source": []
  },
  {
   "cell_type": "code",
   "execution_count": null,
   "id": "6e385368",
   "metadata": {},
   "outputs": [],
   "source": []
  },
  {
   "cell_type": "code",
   "execution_count": null,
   "id": "db13ad21",
   "metadata": {},
   "outputs": [],
   "source": []
  },
  {
   "cell_type": "code",
   "execution_count": null,
   "id": "b1311912",
   "metadata": {},
   "outputs": [],
   "source": []
  },
  {
   "cell_type": "code",
   "execution_count": null,
   "id": "d52be07e",
   "metadata": {},
   "outputs": [],
   "source": []
  },
  {
   "cell_type": "code",
   "execution_count": null,
   "id": "2d4acbf4",
   "metadata": {},
   "outputs": [],
   "source": []
  },
  {
   "cell_type": "code",
   "execution_count": null,
   "id": "5635e2a7",
   "metadata": {},
   "outputs": [],
   "source": []
  },
  {
   "cell_type": "code",
   "execution_count": null,
   "id": "2a0a786b",
   "metadata": {},
   "outputs": [],
   "source": []
  },
  {
   "cell_type": "code",
   "execution_count": null,
   "id": "4f1d8e67",
   "metadata": {},
   "outputs": [],
   "source": []
  },
  {
   "cell_type": "code",
   "execution_count": null,
   "id": "a2567223",
   "metadata": {},
   "outputs": [],
   "source": []
  },
  {
   "cell_type": "code",
   "execution_count": null,
   "id": "5eea244a",
   "metadata": {},
   "outputs": [],
   "source": []
  },
  {
   "cell_type": "code",
   "execution_count": null,
   "id": "49a4b289",
   "metadata": {},
   "outputs": [],
   "source": []
  },
  {
   "cell_type": "code",
   "execution_count": null,
   "id": "1ffae3ff",
   "metadata": {},
   "outputs": [],
   "source": []
  },
  {
   "cell_type": "code",
   "execution_count": null,
   "id": "385ee1cd",
   "metadata": {},
   "outputs": [],
   "source": []
  }
 ],
 "metadata": {
  "kernelspec": {
   "display_name": "Python 3 (ipykernel)",
   "language": "python",
   "name": "python3"
  },
  "language_info": {
   "codemirror_mode": {
    "name": "ipython",
    "version": 3
   },
   "file_extension": ".py",
   "mimetype": "text/x-python",
   "name": "python",
   "nbconvert_exporter": "python",
   "pygments_lexer": "ipython3",
   "version": "3.7.13"
  }
 },
 "nbformat": 4,
 "nbformat_minor": 5
}
